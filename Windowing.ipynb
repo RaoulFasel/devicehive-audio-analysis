{
 "cells": [
  {
   "cell_type": "code",
   "execution_count": 4,
   "metadata": {},
   "outputs": [],
   "source": [
    "pred_values = [0.0, 0.0, 0.0, 0.0, 0.0, 0.0, 0.0, 0.0, 0.0, 0.0, 0.0, 0.0, 0.0, 0.0, 0.0, 0.0, 0.0, 0.0]"
   ]
  },
  {
   "cell_type": "code",
   "execution_count": 5,
   "metadata": {},
   "outputs": [
    {
     "name": "stderr",
     "output_type": "stream",
     "text": [
      "/usr/local/lib/python3.6/site-packages/h5py/__init__.py:36: FutureWarning: Conversion of the second argument of issubdtype from `float` to `np.floating` is deprecated. In future, it will be treated as `np.float64 == np.dtype(float).type`.\n",
      "  from ._conv import register_converters as _register_converters\n"
     ]
    }
   ],
   "source": [
    "import os\n",
    "import numpy as np\n",
    "from scipy.io import wavfile\n",
    "import pandas as pd\n",
    "\n",
    "import operator\n",
    "from pydub import AudioSegment\n",
    "from audio.processor import WavProcessor, format_predictions\n",
    "from collections import Counter"
   ]
  },
  {
   "cell_type": "code",
   "execution_count": null,
   "metadata": {},
   "outputs": [
    {
     "name": "stdout",
     "output_type": "stream",
     "text": [
      "0 6000\n",
      "INFO:tensorflow:Restoring parameters from models/vggish_model.ckpt\n",
      "INFO:tensorflow:Restoring parameters from models/youtube_model.ckpt\n",
      "3000 9000\n",
      "INFO:tensorflow:Restoring parameters from models/vggish_model.ckpt\n",
      "INFO:tensorflow:Restoring parameters from models/youtube_model.ckpt\n",
      "6000 12000\n",
      "INFO:tensorflow:Restoring parameters from models/vggish_model.ckpt\n",
      "INFO:tensorflow:Restoring parameters from models/youtube_model.ckpt\n",
      "0.1 : 0.2  -  Whir 0.40222224593162537\n",
      "0.1 : 0.2  -  White noise 0.1019059345126152\n",
      "9000 15000\n",
      "INFO:tensorflow:Restoring parameters from models/vggish_model.ckpt\n",
      "INFO:tensorflow:Restoring parameters from models/youtube_model.ckpt\n",
      "0.15 : 0.25  -  Vehicle 0.30564165115356445\n",
      "12000 18000\n",
      "INFO:tensorflow:Restoring parameters from models/vggish_model.ckpt\n",
      "INFO:tensorflow:Restoring parameters from models/youtube_model.ckpt\n",
      "15000 21000\n",
      "INFO:tensorflow:Restoring parameters from models/vggish_model.ckpt\n"
     ]
    }
   ],
   "source": [
    "df = pd.read_csv('labels.csv')\n",
    "df = df.set_index('index')\n",
    "\n",
    "sig = AudioSegment.from_file('workshop1.wav', format=\"wav\")\n",
    "\n",
    "window_size = 6 * 1000\n",
    "overlap = 3 * 1000\n",
    "fragment_length = 900 * 1000\n",
    "\n",
    "current_length = 0\n",
    "\n",
    "window_start = 0\n",
    "window_end = window_start + window_size\n",
    "\n",
    "codes = []\n",
    "\n",
    "def get_labels(idx): \n",
    "    return [0.0 if val != 1 else 1.0 for val in df.loc[idx].values]\n",
    "\n",
    "while current_length < fragment_length:\n",
    "    print(window_start,window_end)\n",
    "    \n",
    "    segment = sig[window_start:window_end]\n",
    "    samples = np.array(segment.get_array_of_samples())\n",
    "    new_sig = samples.astype(np.float32)\n",
    "\n",
    "    with WavProcessor() as proc:\n",
    "        predictions = proc.get_predictions(16000, new_sig)\n",
    "\n",
    "        for p in predictions:\n",
    "            codes.append(p)\n",
    "            pred_values = [x + y for x, y in zip(pred_values, get_labels(p[0]))]\n",
    "            print(str(window_start / (60*1000)), \":\", str(window_end / (60*1000)), \" - \", df.loc[p[0]].values[1], p[1])\n",
    "    \n",
    "    current_length = window_start\n",
    "    window_start += (window_size - overlap)\n",
    "    window_end = (window_start + window_size)"
   ]
  },
  {
   "cell_type": "code",
   "execution_count": 22,
   "metadata": {},
   "outputs": [
    {
     "name": "stdout",
     "output_type": "stream",
     "text": [
      "Gong 0.013938799479990079\n",
      "Toot 0.014156263427075893\n",
      "Car 0.01420993396004451\n",
      "Truck 0.014242520215207378\n",
      "Aircraft 0.014403116513302446\n",
      "Chime 0.01445237830570302\n",
      "Propeller, airscrew 0.014472274368905707\n",
      "Chirp tone 0.02788015487708804\n",
      "Medium engine (mid frequency) 0.028502069644511616\n",
      "Television 0.040436301370872015\n",
      "Outside, urban or manmade 0.05235741221025435\n",
      "Car passing by 0.05338618981183786\n",
      "Microwave oven 0.0641442832865583\n",
      "Music 0.06828437603117801\n",
      "Burst, pop 0.08298582515430292\n",
      "Whir 0.10350811534987718\n",
      "White noise 0.1272209059975423\n",
      "Explosion 0.138944444802364\n",
      "Vehicle 0.21840101594929012\n",
      "Static 0.4636432675333752\n"
     ]
    }
   ],
   "source": [
    "val_list = {}\n",
    "\n",
    "total_items = 0\n",
    "\n",
    "for c in codes:\n",
    "    total_items += 1\n",
    "    \n",
    "    if c[0] not in val_list:\n",
    "        val_list[c[0]] = []\n",
    "        \n",
    "    val_list[c[0]].append(c[1])\n",
    "    \n",
    "items_dict = {}\n",
    "\n",
    "for key, val in val_list.items():\n",
    "    harmonic = 2 / (1 / (len(val)/total_items) + 1 / np.mean(val))\n",
    "    items_dict[key] = harmonic\n",
    "\n",
    "_sorted = sorted(items_dict.items(), key=lambda x: x[1])\n",
    "\n",
    "for key, val in _sorted:\n",
    "    print(df.loc[key]['display_name'], val)"
   ]
  },
  {
   "cell_type": "code",
   "execution_count": 23,
   "metadata": {},
   "outputs": [
    {
     "name": "stdout",
     "output_type": "stream",
     "text": [
      "Gong 0.0007868396924502814\n",
      "Toot 0.001025063444429369\n",
      "Car 0.0011061391056473575\n",
      "Truck 0.0011615825455580184\n",
      "Aircraft 0.0015358999371528625\n",
      "Chime 0.001701662122313656\n",
      "Propeller, airscrew 0.0017788294535964282\n",
      "Chirp tone 0.003151729925354915\n",
      "Television 0.004670171372926057\n",
      "Medium engine (mid frequency) 0.00470781037166937\n",
      "Outside, urban or manmade 0.006352594594902067\n",
      "Car passing by 0.0075326040387153625\n",
      "Microwave oven 0.008519617256833544\n",
      "Burst, pop 0.01053702175172407\n",
      "Music 0.014989667196771991\n",
      "Whir 0.015150039554087084\n",
      "White noise 0.023196553561224867\n",
      "Explosion 0.03710389559838309\n",
      "Vehicle 0.06736444715243667\n",
      "Static 0.2513848706635077\n"
     ]
    }
   ],
   "source": [
    "val_list = {}\n",
    "\n",
    "total_items = 0\n",
    "\n",
    "for c in codes:\n",
    "    total_items += 1\n",
    "    \n",
    "    if c[0] not in val_list:\n",
    "        val_list[c[0]] = []\n",
    "        \n",
    "    val_list[c[0]].append(c[1])\n",
    "\n",
    "items_dict = {}\n",
    "\n",
    "for key, val in val_list.items():\n",
    "    mean = (len(val)/total_items) * np.mean(val)\n",
    "    items_dict[key] = mean\n",
    "\n",
    "_sorted = sorted(items_dict.items(), key=lambda x: x[1])\n",
    "\n",
    "for key, val in _sorted:\n",
    "    print(df.loc[key]['display_name'], val)"
   ]
  },
  {
   "cell_type": "code",
   "execution_count": 101,
   "metadata": {},
   "outputs": [
    {
     "data": {
      "text/plain": [
       "[0.0,\n",
       " 0.0,\n",
       " 2.0,\n",
       " 2.0,\n",
       " 0.0,\n",
       " 1.0,\n",
       " 1.0,\n",
       " 1.0,\n",
       " 0.0,\n",
       " 2.0,\n",
       " 2.0,\n",
       " 2.0,\n",
       " 0.0,\n",
       " 4.0,\n",
       " 2.0,\n",
       " 37.0,\n",
       " 29.0,\n",
       " 33.0]"
      ]
     },
     "execution_count": 101,
     "metadata": {},
     "output_type": "execute_result"
    }
   ],
   "source": [
    "pred_values"
   ]
  },
  {
   "cell_type": "code",
   "execution_count": 16,
   "metadata": {},
   "outputs": [
    {
     "data": {
      "text/plain": [
       "mid                    /m/04rlf\n",
       "display_name              Music\n",
       "Living room                   1\n",
       "Work place(kantoor)           1\n",
       "Classroom                   NaN\n",
       "Work Shop                   NaN\n",
       "Kitchen                     NaN\n",
       "Bathroom                    NaN\n",
       "Bedroom                     NaN\n",
       "Trainstation                NaN\n",
       "Airfield                    NaN\n",
       "On water                    NaN\n",
       "Public place                NaN\n",
       "Roadside                    NaN\n",
       "Concert                       1\n",
       "Farm                        NaN\n",
       "Nature                      NaN\n",
       "Park                        NaN\n",
       "Name: 137, dtype: object"
      ]
     },
     "execution_count": 16,
     "metadata": {},
     "output_type": "execute_result"
    }
   ],
   "source": [
    "df.loc[137]"
   ]
  },
  {
   "cell_type": "code",
   "execution_count": 103,
   "metadata": {},
   "outputs": [
    {
     "name": "stdout",
     "output_type": "stream",
     "text": [
      "Park\n",
      "[0.0, 0.0, 2.0, 2.0, 0.0, 1.0, 1.0, 1.0, 0.0, 2.0, 2.0, 2.0, 0.0, 4.0, 2.0, 37.0, 29.0, 33.0]\n"
     ]
    }
   ],
   "source": [
    "arr_index = np.argwhere(pred_values == np.amax(pred_values))\n",
    "arr_index = arr_index.flatten().tolist()\n",
    "\n",
    "labels = ['Living room', 'Work place(kantoor)', 'Classroom', 'Work Shop', 'Kitchen', 'Bathroom', 'Bedroom', 'Trainstation', 'Airfield', 'On water', 'Public place', 'Roadside', 'Concert', 'Farm', 'Nature', 'Park']\n",
    "\n",
    "for x in arr_index:\n",
    "    print(labels[int(x)])\n",
    "\n",
    "print(pred_values)"
   ]
  },
  {
   "cell_type": "code",
   "execution_count": null,
   "metadata": {},
   "outputs": [],
   "source": []
  },
  {
   "cell_type": "code",
   "execution_count": null,
   "metadata": {},
   "outputs": [],
   "source": []
  }
 ],
 "metadata": {
  "kernelspec": {
   "display_name": "Python 3",
   "language": "python",
   "name": "python3"
  },
  "language_info": {
   "codemirror_mode": {
    "name": "ipython",
    "version": 3
   },
   "file_extension": ".py",
   "mimetype": "text/x-python",
   "name": "python",
   "nbconvert_exporter": "python",
   "pygments_lexer": "ipython3",
   "version": "3.6.4"
  }
 },
 "nbformat": 4,
 "nbformat_minor": 2
}
